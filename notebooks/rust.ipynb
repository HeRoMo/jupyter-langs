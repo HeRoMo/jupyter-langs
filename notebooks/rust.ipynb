{
 "cells": [
  {
   "cell_type": "code",
   "execution_count": 2,
   "metadata": {},
   "outputs": [
    {
     "name": "stdout",
     "output_type": "stream",
     "text": [
      "Hello World!\n"
     ]
    }
   ],
   "source": [
    "println!(\"Hello World!\");"
   ]
  },
  {
   "cell_type": "code",
   "execution_count": 3,
   "metadata": {},
   "outputs": [
    {
     "data": {
      "text/plain": [
       ":vars             List bound variables and their types\n",
       ":opt              Toggle optimization\n",
       ":explain          Print explanation of last error\n",
       ":clear            Clear all state, keeping compilation cache\n",
       ":dep              Add dependency. e.g. :dep regex = \"1.0\"\n",
       "\n",
       "Mostly for development / debugging purposes:\n",
       ":last_compile_dir Print the directory in which we last compiled\n",
       ":timing           Toggle printing of how long evaluations take\n",
       ":last_error_json  Print the last compilation error as JSON (for debugging)\n",
       ":internal_debug   Toggle various internal debugging code"
      ]
     },
     "execution_count": 3,
     "metadata": {},
     "output_type": "execute_result"
    }
   ],
   "source": [
    ":help"
   ]
  },
  {
   "cell_type": "code",
   "execution_count": null,
   "metadata": {},
   "outputs": [],
   "source": []
  }
 ],
 "metadata": {
  "kernelspec": {
   "display_name": "Rust",
   "language": "rust",
   "name": "rust"
  },
  "language_info": {
   "codemirror_mode": "rust",
   "file_extension": ".rs",
   "mimetype": "text/rust",
   "name": "Rust",
   "pygment_lexer": "rust",
   "version": ""
  }
 },
 "nbformat": 4,
 "nbformat_minor": 2
}
