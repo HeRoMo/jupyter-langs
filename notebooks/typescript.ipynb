{
 "cells": [
  {
   "cell_type": "code",
   "execution_count": 1,
   "metadata": {},
   "outputs": [
    {
     "name": "stdout",
     "output_type": "stream",
     "text": [
      "{\n",
      "  node: '18.8.0',\n",
      "  v8: '10.2.154.13-node.11',\n",
      "  uv: '1.43.0',\n",
      "  zlib: '1.2.11',\n",
      "  brotli: '1.0.9',\n",
      "  ares: '1.18.1',\n",
      "  modules: '108',\n",
      "  nghttp2: '1.47.0',\n",
      "  napi: '8',\n",
      "  llhttp: '6.0.7',\n",
      "  openssl: '3.0.5+quic',\n",
      "  cldr: '41.0',\n",
      "  icu: '71.1',\n",
      "  tz: '2022a',\n",
      "  unicode: '14.0',\n",
      "  ngtcp2: '0.1.0-DEV',\n",
      "  nghttp3: '0.1.0-DEV'\n",
      "}\n"
     ]
    }
   ],
   "source": [
    "process.versions"
   ]
  },
  {
   "cell_type": "code",
   "execution_count": 2,
   "metadata": {},
   "outputs": [
    {
     "name": "stderr",
     "output_type": "stream",
     "text": []
    },
    {
     "name": "stdout",
     "output_type": "stream",
     "text": [
      "Version 4.8.2\n",
      "\n"
     ]
    }
   ],
   "source": [
    "const { execSync } = require('child_process')\n",
    "\n",
    "const stdout = execSync('tsc -v')\n",
    "stdout.toString()"
   ]
  },
  {
   "cell_type": "code",
   "execution_count": 3,
   "metadata": {},
   "outputs": [
    {
     "name": "stdout",
     "output_type": "stream",
     "text": [
      "Hello, World!\n"
     ]
    }
   ],
   "source": [
    "let msg: string = [\"Hello\", \"World!\"].join(\", \");\n",
    "msg"
   ]
  },
  {
   "cell_type": "code",
   "execution_count": null,
   "metadata": {},
   "outputs": [],
   "source": []
  }
 ],
 "metadata": {
  "kernelspec": {
   "display_name": "TypeScript",
   "language": "typescript",
   "name": "tslab"
  },
  "language_info": {
   "codemirror_mode": {
    "mode": "typescript",
    "name": "javascript",
    "typescript": true
   },
   "file_extension": ".ts",
   "mimetype": "text/typescript",
   "name": "typescript",
   "version": "3.7.2"
  }
 },
 "nbformat": 4,
 "nbformat_minor": 4
}
