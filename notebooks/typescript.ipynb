{
 "cells": [
  {
   "cell_type": "code",
   "execution_count": 1,
   "metadata": {},
   "outputs": [
    {
     "name": "stdout",
     "output_type": "stream",
     "text": [
      "{\n",
      "  node: '16.3.0',\n",
      "  v8: '9.0.257.25-node.16',\n",
      "  uv: '1.41.0',\n",
      "  zlib: '1.2.11',\n",
      "  brotli: '1.0.9',\n",
      "  ares: '1.17.1',\n",
      "  modules: '93',\n",
      "  nghttp2: '1.42.0',\n",
      "  napi: '8',\n",
      "  llhttp: '6.0.2',\n",
      "  openssl: '1.1.1k+quic',\n",
      "  cldr: '39.0',\n",
      "  icu: '69.1',\n",
      "  tz: '2021a',\n",
      "  unicode: '13.0',\n",
      "  ngtcp2: '0.1.0-DEV',\n",
      "  nghttp3: '0.1.0-DEV'\n",
      "}\n"
     ]
    }
   ],
   "source": [
    "process.versions"
   ]
  },
  {
   "cell_type": "code",
   "execution_count": 2,
   "metadata": {},
   "outputs": [],
   "source": [
    "let msg: string = [\"Hello\", \"World!\"].join(\", \");"
   ]
  },
  {
   "cell_type": "code",
   "execution_count": 3,
   "metadata": {},
   "outputs": [
    {
     "name": "stdout",
     "output_type": "stream",
     "text": [
      "Hello, World!\n"
     ]
    }
   ],
   "source": [
    "msg"
   ]
  },
  {
   "cell_type": "code",
   "execution_count": 5,
   "metadata": {},
   "outputs": [
    {
     "name": "stderr",
     "output_type": "stream",
     "text": [
      "1:2 - Cannot find name 'help'.\n"
     ]
    }
   ],
   "source": [
    "!help"
   ]
  },
  {
   "cell_type": "code",
   "execution_count": null,
   "metadata": {},
   "outputs": [],
   "source": []
  }
 ],
 "metadata": {
  "kernelspec": {
   "display_name": "TypeScript",
   "language": "typescript",
   "name": "tslab"
  },
  "language_info": {
   "codemirror_mode": {
    "mode": "typescript",
    "name": "javascript",
    "typescript": true
   },
   "file_extension": ".ts",
   "mimetype": "text/typescript",
   "name": "typescript",
   "version": "3.7.2"
  }
 },
 "nbformat": 4,
 "nbformat_minor": 4
}
