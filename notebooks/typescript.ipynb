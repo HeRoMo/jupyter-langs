{
 "cells": [
  {
   "cell_type": "code",
   "execution_count": null,
   "metadata": {},
   "outputs": [
    {
     "ename": "Error",
     "evalue": "Line 1, Character 1\nproccess.versions\n^\nTS2304: Cannot find name 'proccess'.",
     "execution_count": 2,
     "output_type": "error",
     "traceback": [
      "Error: Line 1, Character 1",
      "proccess.versions",
      "^",
      "TS2304: Cannot find name 'proccess'.",
      "    at execTranspile (/usr/local/share/.config/yarn/global/node_modules/itypescript/lib/kernel.js:203:27)",
      "    at Session.transpiler [as transpile] (/usr/local/share/.config/yarn/global/node_modules/itypescript/lib/kernel.js:263:37)",
      "    at Session._runNow (/usr/local/share/.config/yarn/global/node_modules/nel/lib/nel.js:796:39)",
      "    at Session._run (/usr/local/share/.config/yarn/global/node_modules/nel/lib/nel.js:766:14)",
      "    at Session.execute (/usr/local/share/.config/yarn/global/node_modules/nel/lib/nel.js:890:10)",
      "    at Kernel.execute_request (/usr/local/share/.config/yarn/global/node_modules/itypescript/node_modules/jp-kernel/lib/handlers_v5.js:116:18)",
      "    at Kernel.onShellMessage (/usr/local/share/.config/yarn/global/node_modules/itypescript/node_modules/jp-kernel/lib/jp-kernel.js:285:41)",
      "    at Socket.<anonymous> (/usr/local/share/.config/yarn/global/node_modules/jmp/index.js:350:17)",
      "    at Socket.emit (events.js:209:13)",
      "    at Socket._emitMessage (/usr/local/share/.config/yarn/global/node_modules/zeromq/lib/index.js:640:15)"
     ]
    }
   ],
   "source": [
    "process.versions"
   ]
  },
  {
   "cell_type": "code",
   "execution_count": 2,
   "metadata": {},
   "outputs": [
    {
     "data": {
      "text/plain": [
       "undefined"
      ]
     },
     "execution_count": 2,
     "metadata": {},
     "output_type": "execute_result"
    }
   ],
   "source": [
    "let msg = [\"Hello\", \"World!\"].join(\", \");"
   ]
  },
  {
   "cell_type": "code",
   "execution_count": 3,
   "metadata": {},
   "outputs": [
    {
     "data": {
      "text/plain": [
       "'Hello, World!'"
      ]
     },
     "execution_count": 3,
     "metadata": {},
     "output_type": "execute_result"
    }
   ],
   "source": [
    "msg"
   ]
  }
 ],
 "metadata": {
  "kernelspec": {
   "display_name": "Typescript 3.6",
   "language": "typescript",
   "name": "typescript"
  },
  "language_info": {
   "file_extension": ".ts",
   "mimetype": "application/x-typescript",
   "name": "typescript",
   "version": "3.6.3"
  }
 },
 "nbformat": 4,
 "nbformat_minor": 4
}
