{
 "cells": [
  {
   "cell_type": "code",
   "execution_count": 1,
   "metadata": {},
   "outputs": [
    {
     "name": "stdout",
     "output_type": "stream",
     "text": [
      "{\n",
      "  node: '18.10.0',\n",
      "  v8: '10.2.154.15-node.12',\n",
      "  uv: '1.43.0',\n",
      "  zlib: '1.2.11',\n",
      "  brotli: '1.0.9',\n",
      "  ares: '1.18.1',\n",
      "  modules: '108',\n",
      "  nghttp2: '1.47.0',\n",
      "  napi: '8',\n",
      "  llhttp: '6.0.10',\n",
      "  openssl: '3.0.5+quic',\n",
      "  cldr: '41.0',\n",
      "  icu: '71.1',\n",
      "  tz: '2022b',\n",
      "  unicode: '14.0',\n",
      "  ngtcp2: '0.8.1',\n",
      "  nghttp3: '0.7.0'\n",
      "}\n"
     ]
    }
   ],
   "source": [
    "process.versions"
   ]
  },
  {
   "cell_type": "code",
   "execution_count": 2,
   "metadata": {},
   "outputs": [
    {
     "name": "stdout",
     "output_type": "stream",
     "text": [
      "Hello World\n"
     ]
    }
   ],
   "source": [
    "console.log('Hello World')"
   ]
  },
  {
   "cell_type": "code",
   "execution_count": null,
   "metadata": {},
   "outputs": [],
   "source": []
  }
 ],
 "metadata": {
  "kernelspec": {
   "display_name": "JavaScript",
   "language": "javascript",
   "name": "jslab"
  },
  "language_info": {
   "file_extension": ".js",
   "mimetype": "text/javascript",
   "name": "javascript",
   "version": ""
  }
 },
 "nbformat": 4,
 "nbformat_minor": 4
}
