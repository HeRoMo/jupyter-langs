{
 "cells": [
  {
   "cell_type": "code",
   "execution_count": 3,
   "metadata": {},
   "outputs": [
    {
     "name": "stdout",
     "output_type": "stream",
     "text": [
      "{\n",
      "  node: '18.8.0',\n",
      "  v8: '10.2.154.13-node.11',\n",
      "  uv: '1.43.0',\n",
      "  zlib: '1.2.11',\n",
      "  brotli: '1.0.9',\n",
      "  ares: '1.18.1',\n",
      "  modules: '108',\n",
      "  nghttp2: '1.47.0',\n",
      "  napi: '8',\n",
      "  llhttp: '6.0.7',\n",
      "  openssl: '3.0.5+quic',\n",
      "  cldr: '41.0',\n",
      "  icu: '71.1',\n",
      "  tz: '2022a',\n",
      "  unicode: '14.0',\n",
      "  ngtcp2: '0.1.0-DEV',\n",
      "  nghttp3: '0.1.0-DEV'\n",
      "}\n"
     ]
    }
   ],
   "source": [
    "process.versions"
   ]
  },
  {
   "cell_type": "code",
   "execution_count": 4,
   "metadata": {},
   "outputs": [
    {
     "name": "stdout",
     "output_type": "stream",
     "text": [
      "Hello World\n"
     ]
    },
    {
     "name": "stderr",
     "output_type": "stream",
     "text": [
      "unknown msg_type: comm_open\n",
      "unknown msg_type: comm_msg\n"
     ]
    }
   ],
   "source": [
    "console.log('Hello World')"
   ]
  },
  {
   "cell_type": "code",
   "execution_count": null,
   "metadata": {},
   "outputs": [],
   "source": []
  }
 ],
 "metadata": {
  "kernelspec": {
   "display_name": "JavaScript",
   "language": "javascript",
   "name": "jslab"
  },
  "language_info": {
   "file_extension": ".js",
   "mimetype": "text/javascript",
   "name": "javascript",
   "version": ""
  }
 },
 "nbformat": 4,
 "nbformat_minor": 4
}
