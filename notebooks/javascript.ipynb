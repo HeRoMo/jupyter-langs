{
 "cells": [
  {
   "cell_type": "code",
   "execution_count": 1,
   "metadata": {},
   "outputs": [
    {
     "data": {
      "text/plain": [
       "{\n",
       "  node: '12.19.0',\n",
       "  v8: '7.8.279.23-node.44',\n",
       "  uv: '1.39.0',\n",
       "  zlib: '1.2.11',\n",
       "  brotli: '1.0.9',\n",
       "  ares: '1.16.0',\n",
       "  modules: '72',\n",
       "  nghttp2: '1.41.0',\n",
       "  napi: '7',\n",
       "  llhttp: '2.1.2',\n",
       "  http_parser: '2.9.3',\n",
       "  openssl: '1.1.1g',\n",
       "  cldr: '37.0',\n",
       "  icu: '67.1',\n",
       "  tz: '2019c',\n",
       "  unicode: '13.0'\n",
       "}"
      ]
     },
     "execution_count": 1,
     "metadata": {},
     "output_type": "execute_result"
    }
   ],
   "source": [
    "process.versions"
   ]
  },
  {
   "cell_type": "code",
   "execution_count": 2,
   "metadata": {},
   "outputs": [
    {
     "name": "stdout",
     "output_type": "stream",
     "text": [
      "Hello World\n"
     ]
    }
   ],
   "source": [
    "console.log('Hello World')"
   ]
  }
 ],
 "metadata": {
  "kernelspec": {
   "display_name": "Javascript (Node.js)",
   "language": "javascript",
   "name": "javascript"
  },
  "language_info": {
   "file_extension": ".js",
   "mimetype": "application/javascript",
   "name": "javascript",
   "version": "12.19.0"
  }
 },
 "nbformat": 4,
 "nbformat_minor": 4
}
