{
 "cells": [
  {
   "cell_type": "code",
   "execution_count": 1,
   "metadata": {},
   "outputs": [
    {
     "data": {
      "text/plain": [
       "{\n",
       "  node: '12.18.3',\n",
       "  v8: '7.8.279.23-node.39',\n",
       "  uv: '1.38.0',\n",
       "  zlib: '1.2.11',\n",
       "  brotli: '1.0.7',\n",
       "  ares: '1.16.0',\n",
       "  modules: '72',\n",
       "  nghttp2: '1.41.0',\n",
       "  napi: '6',\n",
       "  llhttp: '2.0.4',\n",
       "  http_parser: '2.9.3',\n",
       "  openssl: '1.1.1g',\n",
       "  cldr: '37.0',\n",
       "  icu: '67.1',\n",
       "  tz: '2019c',\n",
       "  unicode: '13.0'\n",
       "}"
      ]
     },
     "execution_count": 1,
     "metadata": {},
     "output_type": "execute_result"
    }
   ],
   "source": [
    "process.versions"
   ]
  },
  {
   "cell_type": "code",
   "execution_count": 2,
   "metadata": {},
   "outputs": [
    {
     "name": "stdout",
     "output_type": "stream",
     "text": [
      "Hello World\n"
     ]
    }
   ],
   "source": [
    "console.log('Hello World')"
   ]
  }
 ],
 "metadata": {
  "kernelspec": {
   "display_name": "Javascript (Node.js)",
   "language": "javascript",
   "name": "javascript"
  },
  "language_info": {
   "file_extension": ".js",
   "mimetype": "application/javascript",
   "name": "javascript",
   "version": "12.18.3"
  }
 },
 "nbformat": 4,
 "nbformat_minor": 4
}
