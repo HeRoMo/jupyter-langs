{
 "cells": [
  {
   "cell_type": "code",
   "execution_count": 1,
   "metadata": {},
   "outputs": [
    {
     "name": "stdout",
     "output_type": "stream",
     "text": [
      "{\n",
      "  node: '17.0.1',\n",
      "  v8: '9.5.172.21-node.12',\n",
      "  uv: '1.42.0',\n",
      "  zlib: '1.2.11',\n",
      "  brotli: '1.0.9',\n",
      "  ares: '1.17.2',\n",
      "  modules: '102',\n",
      "  nghttp2: '1.45.1',\n",
      "  napi: '8',\n",
      "  llhttp: '6.0.4',\n",
      "  openssl: '3.0.0+quic',\n",
      "  cldr: '39.0',\n",
      "  icu: '69.1',\n",
      "  tz: '2021a',\n",
      "  unicode: '13.0',\n",
      "  ngtcp2: '0.1.0-DEV',\n",
      "  nghttp3: '0.1.0-DEV'\n",
      "}\n"
     ]
    }
   ],
   "source": [
    "process.versions"
   ]
  },
  {
   "cell_type": "code",
   "execution_count": 2,
   "metadata": {},
   "outputs": [
    {
     "name": "stdout",
     "output_type": "stream",
     "text": [
      "Hello World\n"
     ]
    }
   ],
   "source": [
    "console.log('Hello World')"
   ]
  },
  {
   "cell_type": "code",
   "execution_count": null,
   "metadata": {},
   "outputs": [],
   "source": []
  }
 ],
 "metadata": {
  "kernelspec": {
   "display_name": "JavaScript",
   "language": "javascript",
   "name": "jslab"
  },
  "language_info": {
   "file_extension": ".js",
   "mimetype": "text/javascript",
   "name": "javascript",
   "version": ""
  }
 },
 "nbformat": 4,
 "nbformat_minor": 4
}
