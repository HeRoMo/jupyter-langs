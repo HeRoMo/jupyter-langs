{
 "cells": [
  {
   "cell_type": "code",
   "execution_count": 1,
   "metadata": {},
   "outputs": [
    {
     "data": {
      "text/plain": [
       "{\n",
       "  node: '12.10.0',\n",
       "  v8: '7.6.303.29-node.16',\n",
       "  uv: '1.31.0',\n",
       "  zlib: '1.2.11',\n",
       "  brotli: '1.0.7',\n",
       "  ares: '1.15.0',\n",
       "  modules: '72',\n",
       "  nghttp2: '1.39.2',\n",
       "  napi: '4',\n",
       "  llhttp: '1.1.4',\n",
       "  http_parser: '2.8.0',\n",
       "  openssl: '1.1.1c',\n",
       "  cldr: '35.1',\n",
       "  icu: '64.2',\n",
       "  tz: '2019a',\n",
       "  unicode: '12.1'\n",
       "}"
      ]
     },
     "execution_count": 1,
     "metadata": {},
     "output_type": "execute_result"
    }
   ],
   "source": [
    "process.versions"
   ]
  },
  {
   "cell_type": "code",
   "execution_count": 2,
   "metadata": {},
   "outputs": [
    {
     "name": "stdout",
     "output_type": "stream",
     "text": [
      "Hello World\n"
     ]
    }
   ],
   "source": [
    "console.log('Hello World')"
   ]
  }
 ],
 "metadata": {
  "kernelspec": {
   "display_name": "Javascript (Node.js)",
   "language": "javascript",
   "name": "javascript"
  },
  "language_info": {
   "file_extension": ".js",
   "mimetype": "application/javascript",
   "name": "javascript",
   "version": "12.10.0"
  }
 },
 "nbformat": 4,
 "nbformat_minor": 4
}
