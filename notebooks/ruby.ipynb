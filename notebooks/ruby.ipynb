{
 "cells": [
  {
   "cell_type": "code",
   "execution_count": 1,
   "metadata": {},
   "outputs": [
    {
     "data": {
      "text/plain": [
       "\"3.0.0\""
      ]
     },
     "execution_count": 1,
     "metadata": {},
     "output_type": "execute_result"
    }
   ],
   "source": [
    "RUBY_VERSION"
   ]
  },
  {
   "cell_type": "code",
   "execution_count": 2,
   "metadata": {},
   "outputs": [
    {
     "name": "stdout",
     "output_type": "stream",
     "text": [
      "Hello World\n"
     ]
    },
    {
     "ename": "Interrupt",
     "evalue": "",
     "output_type": "error",
     "traceback": [
      "\u001b[31mInterrupt\u001b[0m: ",
      "/opt/ruby/3.0.0/lib/ruby/gems/3.0.0/gems/ffi-rzmq-2.0.7/lib/ffi-rzmq/socket.rb:584:in `zmq_recvmsg'",
      "/opt/ruby/3.0.0/lib/ruby/gems/3.0.0/gems/ffi-rzmq-2.0.7/lib/ffi-rzmq/socket.rb:584:in `__recvmsg__'",
      "/opt/ruby/3.0.0/lib/ruby/gems/3.0.0/gems/ffi-rzmq-2.0.7/lib/ffi-rzmq/socket.rb:321:in `recvmsg'",
      "/opt/ruby/3.0.0/lib/ruby/gems/3.0.0/gems/ffi-rzmq-2.0.7/lib/ffi-rzmq/socket.rb:342:in `recv_string'",
      "/opt/ruby/3.0.0/lib/ruby/gems/3.0.0/gems/iruby-0.5.0/lib/iruby/session_adapter/ffirzmq_adapter.rb:19:in `recv'",
      "/opt/ruby/3.0.0/lib/ruby/gems/3.0.0/gems/iruby-0.5.0/lib/iruby/session.rb:90:in `recv'",
      "/opt/ruby/3.0.0/lib/ruby/gems/3.0.0/gems/iruby-0.5.0/lib/iruby/kernel.rb:43:in `dispatch'",
      "/opt/ruby/3.0.0/lib/ruby/gems/3.0.0/gems/iruby-0.5.0/lib/iruby/kernel.rb:38:in `run'",
      "/opt/ruby/3.0.0/lib/ruby/gems/3.0.0/gems/iruby-0.5.0/lib/iruby/command.rb:110:in `run_kernel'",
      "/opt/ruby/3.0.0/lib/ruby/gems/3.0.0/gems/iruby-0.5.0/lib/iruby/command.rb:40:in `run'",
      "/opt/ruby/3.0.0/lib/ruby/gems/3.0.0/gems/iruby-0.5.0/bin/iruby:5:in `<top (required)>'",
      "/opt/ruby/3.0.0/bin/iruby:23:in `load'",
      "/opt/ruby/3.0.0/bin/iruby:23:in `<main>'"
     ]
    }
   ],
   "source": [
    "puts 'Hello World'"
   ]
  },
  {
   "cell_type": "code",
   "execution_count": null,
   "metadata": {},
   "outputs": [],
   "source": []
  }
 ],
 "metadata": {
  "kernelspec": {
   "display_name": "Ruby 3.0.0",
   "language": "ruby",
   "name": "ruby"
  },
  "language_info": {
   "file_extension": ".rb",
   "mimetype": "application/x-ruby",
   "name": "ruby",
   "version": "3.0.0"
  }
 },
 "nbformat": 4,
 "nbformat_minor": 4
}
