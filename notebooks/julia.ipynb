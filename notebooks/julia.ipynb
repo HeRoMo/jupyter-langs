{
 "cells": [
  {
   "cell_type": "code",
   "execution_count": 1,
   "metadata": {},
   "outputs": [
    {
     "name": "stdout",
     "output_type": "stream",
     "text": [
      "1.7.2\n"
     ]
    }
   ],
   "source": [
    "println(VERSION)"
   ]
  },
  {
   "cell_type": "code",
   "execution_count": 2,
   "metadata": {},
   "outputs": [
    {
     "name": "stdout",
     "output_type": "stream",
     "text": [
      "Hello World\n"
     ]
    }
   ],
   "source": [
    "println(\"Hello World\")"
   ]
  },
  {
   "cell_type": "code",
   "execution_count": 4,
   "metadata": {},
   "outputs": [
    {
     "data": {
      "application/vnd.plotly.v1+json": {
       "config": {
        "editable": false,
        "responsive": true,
        "scrollZoom": true,
        "showLink": false,
        "staticPlot": false
       },
       "data": [
        {
         "name": "first",
         "type": "bar",
         "x": [
          "a",
          "b"
         ],
         "y": [
          1,
          2
         ]
        },
        {
         "name": "second",
         "type": "bar",
         "x": [
          "a",
          "b"
         ],
         "y": [
          2,
          1
         ]
        },
        {
         "name": "third",
         "type": "bar",
         "x": [
          "a",
          "b"
         ],
         "y": [
          1,
          2
         ]
        },
        {
         "name": "fourth",
         "type": "bar",
         "x": [
          "a",
          "b"
         ],
         "y": [
          2,
          1
         ]
        }
       ],
       "frames": [],
       "layout": {
        "autosize": true,
        "margin": {
         "b": 50,
         "l": 50,
         "r": 50,
         "t": 60
        },
        "template": {
         "data": {
          "bar": [
           {
            "error_x": {
             "color": "#2a3f5f"
            },
            "error_y": {
             "color": "#2a3f5f"
            },
            "marker": {
             "line": {
              "color": "#E5ECF6",
              "width": 0.5
             }
            },
            "type": "bar"
           }
          ],
          "barpolar": [
           {
            "marker": {
             "line": {
              "color": "#E5ECF6",
              "width": 0.5
             }
            },
            "type": "barpolar"
           }
          ],
          "carpet": [
           {
            "aaxis": {
             "endlinecolor": "#2a3f5f",
             "gridcolor": "white",
             "linecolor": "white",
             "minorgridcolor": "white",
             "startlinecolor": "#2a3f5f"
            },
            "baxis": {
             "endlinecolor": "#2a3f5f",
             "gridcolor": "white",
             "linecolor": "white",
             "minorgridcolor": "white",
             "startlinecolor": "#2a3f5f"
            },
            "type": "carpet"
           }
          ],
          "choropleth": [
           {
            "colorbar": {
             "outlinewidth": 0,
             "ticks": ""
            },
            "type": "choropleth"
           }
          ],
          "contour": [
           {
            "colorbar": {
             "outlinewidth": 0,
             "ticks": ""
            },
            "colorscale": [
             [
              0,
              "#0d0887"
             ],
             [
              0.1111111111111111,
              "#46039f"
             ],
             [
              0.2222222222222222,
              "#7201a8"
             ],
             [
              0.3333333333333333,
              "#9c179e"
             ],
             [
              0.4444444444444444,
              "#bd3786"
             ],
             [
              0.5555555555555556,
              "#d8576b"
             ],
             [
              0.6666666666666666,
              "#ed7953"
             ],
             [
              0.7777777777777778,
              "#fb9f3a"
             ],
             [
              0.8888888888888888,
              "#fdca26"
             ],
             [
              1,
              "#f0f921"
             ]
            ],
            "type": "contour"
           }
          ],
          "contourcarpet": [
           {
            "colorbar": {
             "outlinewidth": 0,
             "ticks": ""
            },
            "type": "contourcarpet"
           }
          ],
          "heatmap": [
           {
            "colorbar": {
             "outlinewidth": 0,
             "ticks": ""
            },
            "colorscale": [
             [
              0,
              "#0d0887"
             ],
             [
              0.1111111111111111,
              "#46039f"
             ],
             [
              0.2222222222222222,
              "#7201a8"
             ],
             [
              0.3333333333333333,
              "#9c179e"
             ],
             [
              0.4444444444444444,
              "#bd3786"
             ],
             [
              0.5555555555555556,
              "#d8576b"
             ],
             [
              0.6666666666666666,
              "#ed7953"
             ],
             [
              0.7777777777777778,
              "#fb9f3a"
             ],
             [
              0.8888888888888888,
              "#fdca26"
             ],
             [
              1,
              "#f0f921"
             ]
            ],
            "type": "heatmap"
           }
          ],
          "heatmapgl": [
           {
            "colorbar": {
             "outlinewidth": 0,
             "ticks": ""
            },
            "colorscale": [
             [
              0,
              "#0d0887"
             ],
             [
              0.1111111111111111,
              "#46039f"
             ],
             [
              0.2222222222222222,
              "#7201a8"
             ],
             [
              0.3333333333333333,
              "#9c179e"
             ],
             [
              0.4444444444444444,
              "#bd3786"
             ],
             [
              0.5555555555555556,
              "#d8576b"
             ],
             [
              0.6666666666666666,
              "#ed7953"
             ],
             [
              0.7777777777777778,
              "#fb9f3a"
             ],
             [
              0.8888888888888888,
              "#fdca26"
             ],
             [
              1,
              "#f0f921"
             ]
            ],
            "type": "heatmapgl"
           }
          ],
          "histogram": [
           {
            "marker": {
             "colorbar": {
              "outlinewidth": 0,
              "ticks": ""
             }
            },
            "type": "histogram"
           }
          ],
          "histogram2d": [
           {
            "colorbar": {
             "outlinewidth": 0,
             "ticks": ""
            },
            "colorscale": [
             [
              0,
              "#0d0887"
             ],
             [
              0.1111111111111111,
              "#46039f"
             ],
             [
              0.2222222222222222,
              "#7201a8"
             ],
             [
              0.3333333333333333,
              "#9c179e"
             ],
             [
              0.4444444444444444,
              "#bd3786"
             ],
             [
              0.5555555555555556,
              "#d8576b"
             ],
             [
              0.6666666666666666,
              "#ed7953"
             ],
             [
              0.7777777777777778,
              "#fb9f3a"
             ],
             [
              0.8888888888888888,
              "#fdca26"
             ],
             [
              1,
              "#f0f921"
             ]
            ],
            "type": "histogram2d"
           }
          ],
          "histogram2dcontour": [
           {
            "colorbar": {
             "outlinewidth": 0,
             "ticks": ""
            },
            "colorscale": [
             [
              0,
              "#0d0887"
             ],
             [
              0.1111111111111111,
              "#46039f"
             ],
             [
              0.2222222222222222,
              "#7201a8"
             ],
             [
              0.3333333333333333,
              "#9c179e"
             ],
             [
              0.4444444444444444,
              "#bd3786"
             ],
             [
              0.5555555555555556,
              "#d8576b"
             ],
             [
              0.6666666666666666,
              "#ed7953"
             ],
             [
              0.7777777777777778,
              "#fb9f3a"
             ],
             [
              0.8888888888888888,
              "#fdca26"
             ],
             [
              1,
              "#f0f921"
             ]
            ],
            "type": "histogram2dcontour"
           }
          ],
          "mesh3d": [
           {
            "colorbar": {
             "outlinewidth": 0,
             "ticks": ""
            },
            "type": "mesh3d"
           }
          ],
          "parcoords": [
           {
            "line": {
             "colorbar": {
              "outlinewidth": 0,
              "ticks": ""
             }
            },
            "type": "parcoords"
           }
          ],
          "pie": [
           {
            "automargin": true,
            "type": "pie"
           }
          ],
          "scatter": [
           {
            "marker": {
             "colorbar": {
              "outlinewidth": 0,
              "ticks": ""
             }
            },
            "type": "scatter"
           }
          ],
          "scatter3d": [
           {
            "line": {
             "colorbar": {
              "outlinewidth": 0,
              "ticks": ""
             }
            },
            "marker": {
             "colorbar": {
              "outlinewidth": 0,
              "ticks": ""
             }
            },
            "type": "scatter3d"
           }
          ],
          "scattercarpet": [
           {
            "marker": {
             "colorbar": {
              "outlinewidth": 0,
              "ticks": ""
             }
            },
            "type": "scattercarpet"
           }
          ],
          "scattergeo": [
           {
            "marker": {
             "colorbar": {
              "outlinewidth": 0,
              "ticks": ""
             }
            },
            "type": "scattergeo"
           }
          ],
          "scattergl": [
           {
            "marker": {
             "colorbar": {
              "outlinewidth": 0,
              "ticks": ""
             }
            },
            "type": "scattergl"
           }
          ],
          "scattermapbox": [
           {
            "marker": {
             "colorbar": {
              "outlinewidth": 0,
              "ticks": ""
             }
            },
            "type": "scattermapbox"
           }
          ],
          "scatterpolar": [
           {
            "marker": {
             "colorbar": {
              "outlinewidth": 0,
              "ticks": ""
             }
            },
            "type": "scatterpolar"
           }
          ],
          "scatterpolargl": [
           {
            "marker": {
             "colorbar": {
              "outlinewidth": 0,
              "ticks": ""
             }
            },
            "type": "scatterpolargl"
           }
          ],
          "scatterternary": [
           {
            "marker": {
             "colorbar": {
              "outlinewidth": 0,
              "ticks": ""
             }
            },
            "type": "scatterternary"
           }
          ],
          "surface": [
           {
            "colorbar": {
             "outlinewidth": 0,
             "ticks": ""
            },
            "colorscale": [
             [
              0,
              "#0d0887"
             ],
             [
              0.1111111111111111,
              "#46039f"
             ],
             [
              0.2222222222222222,
              "#7201a8"
             ],
             [
              0.3333333333333333,
              "#9c179e"
             ],
             [
              0.4444444444444444,
              "#bd3786"
             ],
             [
              0.5555555555555556,
              "#d8576b"
             ],
             [
              0.6666666666666666,
              "#ed7953"
             ],
             [
              0.7777777777777778,
              "#fb9f3a"
             ],
             [
              0.8888888888888888,
              "#fdca26"
             ],
             [
              1,
              "#f0f921"
             ]
            ],
            "type": "surface"
           }
          ],
          "table": [
           {
            "cells": {
             "fill": {
              "color": "#EBF0F8"
             },
             "line": {
              "color": "white"
             }
            },
            "header": {
             "fill": {
              "color": "#C8D4E3"
             },
             "line": {
              "color": "white"
             }
            },
            "type": "table"
           }
          ]
         },
         "layout": {
          "annotationdefaults": {
           "arrowcolor": "#2a3f5f",
           "arrowhead": 0,
           "arrowwidth": 1
          },
          "autotypenumbers": "strict",
          "coloraxis": {
           "colorbar": {
            "outlinewidth": 0,
            "ticks": ""
           }
          },
          "colorscale": {
           "diverging": [
            [
             0,
             "#8e0152"
            ],
            [
             0.1,
             "#c51b7d"
            ],
            [
             0.2,
             "#de77ae"
            ],
            [
             0.3,
             "#f1b6da"
            ],
            [
             0.4,
             "#fde0ef"
            ],
            [
             0.5,
             "#f7f7f7"
            ],
            [
             0.6,
             "#e6f5d0"
            ],
            [
             0.7,
             "#b8e186"
            ],
            [
             0.8,
             "#7fbc41"
            ],
            [
             0.9,
             "#4d9221"
            ],
            [
             1,
             "#276419"
            ]
           ],
           "sequential": [
            [
             0,
             "#0d0887"
            ],
            [
             0.1111111111111111,
             "#46039f"
            ],
            [
             0.2222222222222222,
             "#7201a8"
            ],
            [
             0.3333333333333333,
             "#9c179e"
            ],
            [
             0.4444444444444444,
             "#bd3786"
            ],
            [
             0.5555555555555556,
             "#d8576b"
            ],
            [
             0.6666666666666666,
             "#ed7953"
            ],
            [
             0.7777777777777778,
             "#fb9f3a"
            ],
            [
             0.8888888888888888,
             "#fdca26"
            ],
            [
             1,
             "#f0f921"
            ]
           ],
           "sequentialminus": [
            [
             0,
             "#0d0887"
            ],
            [
             0.1111111111111111,
             "#46039f"
            ],
            [
             0.2222222222222222,
             "#7201a8"
            ],
            [
             0.3333333333333333,
             "#9c179e"
            ],
            [
             0.4444444444444444,
             "#bd3786"
            ],
            [
             0.5555555555555556,
             "#d8576b"
            ],
            [
             0.6666666666666666,
             "#ed7953"
            ],
            [
             0.7777777777777778,
             "#fb9f3a"
            ],
            [
             0.8888888888888888,
             "#fdca26"
            ],
            [
             1,
             "#f0f921"
            ]
           ]
          },
          "colorway": [
           "#636efa",
           "#EF553B",
           "#00cc96",
           "#ab63fa",
           "#FFA15A",
           "#19d3f3",
           "#FF6692",
           "#B6E880",
           "#FF97FF",
           "#FECB52"
          ],
          "font": {
           "color": "#2a3f5f"
          },
          "geo": {
           "bgcolor": "white",
           "lakecolor": "white",
           "landcolor": "#E5ECF6",
           "showlakes": true,
           "showland": true,
           "subunitcolor": "white"
          },
          "hoverlabel": {
           "align": "left"
          },
          "hovermode": "closest",
          "mapbox": {
           "style": "light"
          },
          "paper_bgcolor": "white",
          "plot_bgcolor": "#E5ECF6",
          "polar": {
           "angularaxis": {
            "gridcolor": "white",
            "linecolor": "white",
            "ticks": ""
           },
           "bgcolor": "#E5ECF6",
           "radialaxis": {
            "gridcolor": "white",
            "linecolor": "white",
            "ticks": ""
           }
          },
          "scene": {
           "xaxis": {
            "backgroundcolor": "#E5ECF6",
            "gridcolor": "white",
            "gridwidth": 2,
            "linecolor": "white",
            "showbackground": true,
            "ticks": "",
            "zerolinecolor": "white"
           },
           "yaxis": {
            "backgroundcolor": "#E5ECF6",
            "gridcolor": "white",
            "gridwidth": 2,
            "linecolor": "white",
            "showbackground": true,
            "ticks": "",
            "zerolinecolor": "white"
           },
           "zaxis": {
            "backgroundcolor": "#E5ECF6",
            "gridcolor": "white",
            "gridwidth": 2,
            "linecolor": "white",
            "showbackground": true,
            "ticks": "",
            "zerolinecolor": "white"
           }
          },
          "shapedefaults": {
           "line": {
            "color": "#2a3f5f"
           }
          },
          "ternary": {
           "aaxis": {
            "gridcolor": "white",
            "linecolor": "white",
            "ticks": ""
           },
           "baxis": {
            "gridcolor": "white",
            "linecolor": "white",
            "ticks": ""
           },
           "bgcolor": "#E5ECF6",
           "caxis": {
            "gridcolor": "white",
            "linecolor": "white",
            "ticks": ""
           }
          },
          "title": {
           "x": 0.05
          },
          "xaxis": {
           "automargin": true,
           "gridcolor": "white",
           "linecolor": "white",
           "ticks": "",
           "title": {
            "standoff": 15
           },
           "zerolinecolor": "white",
           "zerolinewidth": 2
          },
          "yaxis": {
           "automargin": true,
           "gridcolor": "white",
           "linecolor": "white",
           "ticks": "",
           "title": {
            "standoff": 15
           },
           "zerolinecolor": "white",
           "zerolinewidth": 2
          }
         }
        },
        "xaxis": {
         "autorange": true,
         "range": [
          -0.5,
          1.5
         ],
         "type": "category"
        },
        "yaxis": {
         "autorange": true,
         "range": [
          0,
          2.1052631578947367
         ],
         "type": "linear"
        }
       }
      },
      "image/png": "[encoded data removed]",
      "text/html": [
       "<div\n",
       "    class=\"webio-mountpoint\"\n",
       "    data-webio-mountpoint=\"2735768493024536156\"\n",
       ">\n",
       "    <script>\n",
       "    (function(){\n",
       "    // Some integrations (namely, IJulia/Jupyter) use an alternate render pathway than\n",
       "    // just putting the html on the page. If WebIO isn't defined, then it's pretty likely\n",
       "    // that we're in one of those situations and the integration just isn't installed\n",
       "    // correctly.\n",
       "    if (typeof window.WebIO === \"undefined\") {\n",
       "        document\n",
       "            .querySelector('[data-webio-mountpoint=\"2735768493024536156\"]')\n",
       "            .innerHTML = (\n",
       "                '<div style=\"padding: 1em; background-color: #f8d6da; border: 1px solid #f5c6cb; font-weight: bold;\">' +\n",
       "                '<p><strong>WebIO not detected.</strong></p>' +\n",
       "                '<p>Please read ' +\n",
       "                '<a href=\"https://juliagizmos.github.io/WebIO.jl/latest/troubleshooting/not-detected/\" target=\"_blank\">the troubleshooting guide</a> ' +\n",
       "                'for more information on how to resolve this issue.</p>' +\n",
       "                '<p><a href=\"https://juliagizmos.github.io/WebIO.jl/latest/troubleshooting/not-detected/\" target=\"_blank\">https://juliagizmos.github.io/WebIO.jl/latest/troubleshooting/not-detected/</a></p>' +\n",
       "                '</div>'\n",
       "            );\n",
       "        return;\n",
       "    }\n",
       "    WebIO.mount(\n",
       "        document.querySelector('[data-webio-mountpoint=\"2735768493024536156\"]'),\n",
       "        {\"props\":{},\"nodeType\":\"Scope\",\"type\":\"node\",\"instanceArgs\":{\"imports\":{\"data\":[{\"name\":\"Plotly\",\"type\":\"js\",\"url\":\"\\/assetserver\\/8d35c4870680326a2cceb1d91a3d1ad98e91c98e-plotly.min.js\"},{\"name\":null,\"type\":\"js\",\"url\":\"\\/assetserver\\/2a5143fd330547fa597de852db6e29eb66a6ceea-plotly_webio.bundle.js\"}],\"type\":\"async_block\"},\"id\":\"17042807325805023786\",\"handlers\":{\"_toImage\":[\"(function (options){return this.Plotly.toImage(this.plotElem,options).then((function (data){return WebIO.setval({\\\"name\\\":\\\"image\\\",\\\"scope\\\":\\\"17042807325805023786\\\",\\\"id\\\":\\\"2046027356702132542\\\",\\\"type\\\":\\\"observable\\\"},data)}))})\"],\"__get_gd_contents\":[\"(function (prop){prop==\\\"data\\\" ? (WebIO.setval({\\\"name\\\":\\\"__gd_contents\\\",\\\"scope\\\":\\\"17042807325805023786\\\",\\\"id\\\":\\\"16644663046323034367\\\",\\\"type\\\":\\\"observable\\\"},this.plotElem.data)) : undefined; return prop==\\\"layout\\\" ? (WebIO.setval({\\\"name\\\":\\\"__gd_contents\\\",\\\"scope\\\":\\\"17042807325805023786\\\",\\\"id\\\":\\\"16644663046323034367\\\",\\\"type\\\":\\\"observable\\\"},this.plotElem.layout)) : undefined})\"],\"_downloadImage\":[\"(function (options){return this.Plotly.downloadImage(this.plotElem,options)})\"],\"_commands\":[\"(function (args){var fn=args.shift(); var elem=this.plotElem; var Plotly=this.Plotly; args.unshift(elem); return Plotly[fn].apply(this,args)})\"]},\"systemjs_options\":null,\"mount_callbacks\":[\"function () {\\n    var handler = ((function (Plotly,PlotlyWebIO){PlotlyWebIO.init(WebIO); var gd=this.dom.querySelector(\\\"#plot-76fb398b-a933-4b81-96ae-2027fdeda729\\\"); this.plotElem=gd; this.Plotly=Plotly; (window.Blink!==undefined) ? (gd.style.width=\\\"100%\\\", gd.style.height=\\\"100vh\\\", gd.style.marginLeft=\\\"0%\\\", gd.style.marginTop=\\\"0vh\\\") : undefined; window.onresize=(function (){return Plotly.Plots.resize(gd)}); Plotly.newPlot(gd,[{\\\"y\\\":[1,2],\\\"type\\\":\\\"bar\\\",\\\"name\\\":\\\"first\\\",\\\"x\\\":[\\\"a\\\",\\\"b\\\"]},{\\\"y\\\":[2,1],\\\"type\\\":\\\"bar\\\",\\\"name\\\":\\\"second\\\",\\\"x\\\":[\\\"a\\\",\\\"b\\\"]},{\\\"y\\\":[1,2],\\\"type\\\":\\\"bar\\\",\\\"name\\\":\\\"third\\\",\\\"x\\\":[\\\"a\\\",\\\"b\\\"]},{\\\"y\\\":[2,1],\\\"type\\\":\\\"bar\\\",\\\"name\\\":\\\"fourth\\\",\\\"x\\\":[\\\"a\\\",\\\"b\\\"]}],{\\\"template\\\":{\\\"layout\\\":{\\\"coloraxis\\\":{\\\"colorbar\\\":{\\\"ticks\\\":\\\"\\\",\\\"outlinewidth\\\":0}},\\\"xaxis\\\":{\\\"gridcolor\\\":\\\"white\\\",\\\"zerolinewidth\\\":2,\\\"title\\\":{\\\"standoff\\\":15},\\\"ticks\\\":\\\"\\\",\\\"zerolinecolor\\\":\\\"white\\\",\\\"automargin\\\":true,\\\"linecolor\\\":\\\"white\\\"},\\\"hovermode\\\":\\\"closest\\\",\\\"paper_bgcolor\\\":\\\"white\\\",\\\"geo\\\":{\\\"showlakes\\\":true,\\\"showland\\\":true,\\\"landcolor\\\":\\\"#E5ECF6\\\",\\\"bgcolor\\\":\\\"white\\\",\\\"subunitcolor\\\":\\\"white\\\",\\\"lakecolor\\\":\\\"white\\\"},\\\"colorscale\\\":{\\\"sequential\\\":[[0.0,\\\"#0d0887\\\"],[0.1111111111111111,\\\"#46039f\\\"],[0.2222222222222222,\\\"#7201a8\\\"],[0.3333333333333333,\\\"#9c179e\\\"],[0.4444444444444444,\\\"#bd3786\\\"],[0.5555555555555556,\\\"#d8576b\\\"],[0.6666666666666666,\\\"#ed7953\\\"],[0.7777777777777778,\\\"#fb9f3a\\\"],[0.8888888888888888,\\\"#fdca26\\\"],[1.0,\\\"#f0f921\\\"]],\\\"diverging\\\":[[0,\\\"#8e0152\\\"],[0.1,\\\"#c51b7d\\\"],[0.2,\\\"#de77ae\\\"],[0.3,\\\"#f1b6da\\\"],[0.4,\\\"#fde0ef\\\"],[0.5,\\\"#f7f7f7\\\"],[0.6,\\\"#e6f5d0\\\"],[0.7,\\\"#b8e186\\\"],[0.8,\\\"#7fbc41\\\"],[0.9,\\\"#4d9221\\\"],[1,\\\"#276419\\\"]],\\\"sequentialminus\\\":[[0.0,\\\"#0d0887\\\"],[0.1111111111111111,\\\"#46039f\\\"],[0.2222222222222222,\\\"#7201a8\\\"],[0.3333333333333333,\\\"#9c179e\\\"],[0.4444444444444444,\\\"#bd3786\\\"],[0.5555555555555556,\\\"#d8576b\\\"],[0.6666666666666666,\\\"#ed7953\\\"],[0.7777777777777778,\\\"#fb9f3a\\\"],[0.8888888888888888,\\\"#fdca26\\\"],[1.0,\\\"#f0f921\\\"]]},\\\"yaxis\\\":{\\\"gridcolor\\\":\\\"white\\\",\\\"zerolinewidth\\\":2,\\\"title\\\":{\\\"standoff\\\":15},\\\"ticks\\\":\\\"\\\",\\\"zerolinecolor\\\":\\\"white\\\",\\\"automargin\\\":true,\\\"linecolor\\\":\\\"white\\\"},\\\"shapedefaults\\\":{\\\"line\\\":{\\\"color\\\":\\\"#2a3f5f\\\"}},\\\"hoverlabel\\\":{\\\"align\\\":\\\"left\\\"},\\\"mapbox\\\":{\\\"style\\\":\\\"light\\\"},\\\"polar\\\":{\\\"angularaxis\\\":{\\\"gridcolor\\\":\\\"white\\\",\\\"ticks\\\":\\\"\\\",\\\"linecolor\\\":\\\"white\\\"},\\\"bgcolor\\\":\\\"#E5ECF6\\\",\\\"radialaxis\\\":{\\\"gridcolor\\\":\\\"white\\\",\\\"ticks\\\":\\\"\\\",\\\"linecolor\\\":\\\"white\\\"}},\\\"autotypenumbers\\\":\\\"strict\\\",\\\"font\\\":{\\\"color\\\":\\\"#2a3f5f\\\"},\\\"ternary\\\":{\\\"baxis\\\":{\\\"gridcolor\\\":\\\"white\\\",\\\"ticks\\\":\\\"\\\",\\\"linecolor\\\":\\\"white\\\"},\\\"bgcolor\\\":\\\"#E5ECF6\\\",\\\"caxis\\\":{\\\"gridcolor\\\":\\\"white\\\",\\\"ticks\\\":\\\"\\\",\\\"linecolor\\\":\\\"white\\\"},\\\"aaxis\\\":{\\\"gridcolor\\\":\\\"white\\\",\\\"ticks\\\":\\\"\\\",\\\"linecolor\\\":\\\"white\\\"}},\\\"annotationdefaults\\\":{\\\"arrowhead\\\":0,\\\"arrowwidth\\\":1,\\\"arrowcolor\\\":\\\"#2a3f5f\\\"},\\\"plot_bgcolor\\\":\\\"#E5ECF6\\\",\\\"title\\\":{\\\"x\\\":0.05},\\\"scene\\\":{\\\"xaxis\\\":{\\\"gridcolor\\\":\\\"white\\\",\\\"gridwidth\\\":2,\\\"backgroundcolor\\\":\\\"#E5ECF6\\\",\\\"ticks\\\":\\\"\\\",\\\"showbackground\\\":true,\\\"zerolinecolor\\\":\\\"white\\\",\\\"linecolor\\\":\\\"white\\\"},\\\"zaxis\\\":{\\\"gridcolor\\\":\\\"white\\\",\\\"gridwidth\\\":2,\\\"backgroundcolor\\\":\\\"#E5ECF6\\\",\\\"ticks\\\":\\\"\\\",\\\"showbackground\\\":true,\\\"zerolinecolor\\\":\\\"white\\\",\\\"linecolor\\\":\\\"white\\\"},\\\"yaxis\\\":{\\\"gridcolor\\\":\\\"white\\\",\\\"gridwidth\\\":2,\\\"backgroundcolor\\\":\\\"#E5ECF6\\\",\\\"ticks\\\":\\\"\\\",\\\"showbackground\\\":true,\\\"zerolinecolor\\\":\\\"white\\\",\\\"linecolor\\\":\\\"white\\\"}},\\\"colorway\\\":[\\\"#636efa\\\",\\\"#EF553B\\\",\\\"#00cc96\\\",\\\"#ab63fa\\\",\\\"#FFA15A\\\",\\\"#19d3f3\\\",\\\"#FF6692\\\",\\\"#B6E880\\\",\\\"#FF97FF\\\",\\\"#FECB52\\\"]},\\\"data\\\":{\\\"barpolar\\\":[{\\\"type\\\":\\\"barpolar\\\",\\\"marker\\\":{\\\"line\\\":{\\\"color\\\":\\\"#E5ECF6\\\",\\\"width\\\":0.5}}}],\\\"carpet\\\":[{\\\"aaxis\\\":{\\\"gridcolor\\\":\\\"white\\\",\\\"endlinecolor\\\":\\\"#2a3f5f\\\",\\\"minorgridcolor\\\":\\\"white\\\",\\\"startlinecolor\\\":\\\"#2a3f5f\\\",\\\"linecolor\\\":\\\"white\\\"},\\\"type\\\":\\\"carpet\\\",\\\"baxis\\\":{\\\"gridcolor\\\":\\\"white\\\",\\\"endlinecolor\\\":\\\"#2a3f5f\\\",\\\"minorgridcolor\\\":\\\"white\\\",\\\"startlinecolor\\\":\\\"#2a3f5f\\\",\\\"linecolor\\\":\\\"white\\\"}}],\\\"scatterpolar\\\":[{\\\"type\\\":\\\"scatterpolar\\\",\\\"marker\\\":{\\\"colorbar\\\":{\\\"ticks\\\":\\\"\\\",\\\"outlinewidth\\\":0}}}],\\\"parcoords\\\":[{\\\"line\\\":{\\\"colorbar\\\":{\\\"ticks\\\":\\\"\\\",\\\"outlinewidth\\\":0}},\\\"type\\\":\\\"parcoords\\\"}],\\\"scatter\\\":[{\\\"type\\\":\\\"scatter\\\",\\\"marker\\\":{\\\"colorbar\\\":{\\\"ticks\\\":\\\"\\\",\\\"outlinewidth\\\":0}}}],\\\"histogram2dcontour\\\":[{\\\"colorbar\\\":{\\\"ticks\\\":\\\"\\\",\\\"outlinewidth\\\":0},\\\"type\\\":\\\"histogram2dcontour\\\",\\\"colorscale\\\":[[0.0,\\\"#0d0887\\\"],[0.1111111111111111,\\\"#46039f\\\"],[0.2222222222222222,\\\"#7201a8\\\"],[0.3333333333333333,\\\"#9c179e\\\"],[0.4444444444444444,\\\"#bd3786\\\"],[0.5555555555555556,\\\"#d8576b\\\"],[0.6666666666666666,\\\"#ed7953\\\"],[0.7777777777777778,\\\"#fb9f3a\\\"],[0.8888888888888888,\\\"#fdca26\\\"],[1.0,\\\"#f0f921\\\"]]}],\\\"contour\\\":[{\\\"colorbar\\\":{\\\"ticks\\\":\\\"\\\",\\\"outlinewidth\\\":0},\\\"type\\\":\\\"contour\\\",\\\"colorscale\\\":[[0.0,\\\"#0d0887\\\"],[0.1111111111111111,\\\"#46039f\\\"],[0.2222222222222222,\\\"#7201a8\\\"],[0.3333333333333333,\\\"#9c179e\\\"],[0.4444444444444444,\\\"#bd3786\\\"],[0.5555555555555556,\\\"#d8576b\\\"],[0.6666666666666666,\\\"#ed7953\\\"],[0.7777777777777778,\\\"#fb9f3a\\\"],[0.8888888888888888,\\\"#fdca26\\\"],[1.0,\\\"#f0f921\\\"]]}],\\\"scattercarpet\\\":[{\\\"type\\\":\\\"scattercarpet\\\",\\\"marker\\\":{\\\"colorbar\\\":{\\\"ticks\\\":\\\"\\\",\\\"outlinewidth\\\":0}}}],\\\"mesh3d\\\":[{\\\"colorbar\\\":{\\\"ticks\\\":\\\"\\\",\\\"outlinewidth\\\":0},\\\"type\\\":\\\"mesh3d\\\"}],\\\"surface\\\":[{\\\"colorbar\\\":{\\\"ticks\\\":\\\"\\\",\\\"outlinewidth\\\":0},\\\"type\\\":\\\"surface\\\",\\\"colorscale\\\":[[0.0,\\\"#0d0887\\\"],[0.1111111111111111,\\\"#46039f\\\"],[0.2222222222222222,\\\"#7201a8\\\"],[0.3333333333333333,\\\"#9c179e\\\"],[0.4444444444444444,\\\"#bd3786\\\"],[0.5555555555555556,\\\"#d8576b\\\"],[0.6666666666666666,\\\"#ed7953\\\"],[0.7777777777777778,\\\"#fb9f3a\\\"],[0.8888888888888888,\\\"#fdca26\\\"],[1.0,\\\"#f0f921\\\"]]}],\\\"scattermapbox\\\":[{\\\"type\\\":\\\"scattermapbox\\\",\\\"marker\\\":{\\\"colorbar\\\":{\\\"ticks\\\":\\\"\\\",\\\"outlinewidth\\\":0}}}],\\\"scattergeo\\\":[{\\\"type\\\":\\\"scattergeo\\\",\\\"marker\\\":{\\\"colorbar\\\":{\\\"ticks\\\":\\\"\\\",\\\"outlinewidth\\\":0}}}],\\\"histogram\\\":[{\\\"type\\\":\\\"histogram\\\",\\\"marker\\\":{\\\"colorbar\\\":{\\\"ticks\\\":\\\"\\\",\\\"outlinewidth\\\":0}}}],\\\"pie\\\":[{\\\"type\\\":\\\"pie\\\",\\\"automargin\\\":true}],\\\"choropleth\\\":[{\\\"colorbar\\\":{\\\"ticks\\\":\\\"\\\",\\\"outlinewidth\\\":0},\\\"type\\\":\\\"choropleth\\\"}],\\\"heatmapgl\\\":[{\\\"colorbar\\\":{\\\"ticks\\\":\\\"\\\",\\\"outlinewidth\\\":0},\\\"type\\\":\\\"heatmapgl\\\",\\\"colorscale\\\":[[0.0,\\\"#0d0887\\\"],[0.1111111111111111,\\\"#46039f\\\"],[0.2222222222222222,\\\"#7201a8\\\"],[0.3333333333333333,\\\"#9c179e\\\"],[0.4444444444444444,\\\"#bd3786\\\"],[0.5555555555555556,\\\"#d8576b\\\"],[0.6666666666666666,\\\"#ed7953\\\"],[0.7777777777777778,\\\"#fb9f3a\\\"],[0.8888888888888888,\\\"#fdca26\\\"],[1.0,\\\"#f0f921\\\"]]}],\\\"bar\\\":[{\\\"type\\\":\\\"bar\\\",\\\"error_y\\\":{\\\"color\\\":\\\"#2a3f5f\\\"},\\\"error_x\\\":{\\\"color\\\":\\\"#2a3f5f\\\"},\\\"marker\\\":{\\\"line\\\":{\\\"color\\\":\\\"#E5ECF6\\\",\\\"width\\\":0.5}}}],\\\"heatmap\\\":[{\\\"colorbar\\\":{\\\"ticks\\\":\\\"\\\",\\\"outlinewidth\\\":0},\\\"type\\\":\\\"heatmap\\\",\\\"colorscale\\\":[[0.0,\\\"#0d0887\\\"],[0.1111111111111111,\\\"#46039f\\\"],[0.2222222222222222,\\\"#7201a8\\\"],[0.3333333333333333,\\\"#9c179e\\\"],[0.4444444444444444,\\\"#bd3786\\\"],[0.5555555555555556,\\\"#d8576b\\\"],[0.6666666666666666,\\\"#ed7953\\\"],[0.7777777777777778,\\\"#fb9f3a\\\"],[0.8888888888888888,\\\"#fdca26\\\"],[1.0,\\\"#f0f921\\\"]]}],\\\"contourcarpet\\\":[{\\\"colorbar\\\":{\\\"ticks\\\":\\\"\\\",\\\"outlinewidth\\\":0},\\\"type\\\":\\\"contourcarpet\\\"}],\\\"table\\\":[{\\\"type\\\":\\\"table\\\",\\\"header\\\":{\\\"line\\\":{\\\"color\\\":\\\"white\\\"},\\\"fill\\\":{\\\"color\\\":\\\"#C8D4E3\\\"}},\\\"cells\\\":{\\\"line\\\":{\\\"color\\\":\\\"white\\\"},\\\"fill\\\":{\\\"color\\\":\\\"#EBF0F8\\\"}}}],\\\"scatter3d\\\":[{\\\"line\\\":{\\\"colorbar\\\":{\\\"ticks\\\":\\\"\\\",\\\"outlinewidth\\\":0}},\\\"type\\\":\\\"scatter3d\\\",\\\"marker\\\":{\\\"colorbar\\\":{\\\"ticks\\\":\\\"\\\",\\\"outlinewidth\\\":0}}}],\\\"scattergl\\\":[{\\\"type\\\":\\\"scattergl\\\",\\\"marker\\\":{\\\"colorbar\\\":{\\\"ticks\\\":\\\"\\\",\\\"outlinewidth\\\":0}}}],\\\"histogram2d\\\":[{\\\"colorbar\\\":{\\\"ticks\\\":\\\"\\\",\\\"outlinewidth\\\":0},\\\"type\\\":\\\"histogram2d\\\",\\\"colorscale\\\":[[0.0,\\\"#0d0887\\\"],[0.1111111111111111,\\\"#46039f\\\"],[0.2222222222222222,\\\"#7201a8\\\"],[0.3333333333333333,\\\"#9c179e\\\"],[0.4444444444444444,\\\"#bd3786\\\"],[0.5555555555555556,\\\"#d8576b\\\"],[0.6666666666666666,\\\"#ed7953\\\"],[0.7777777777777778,\\\"#fb9f3a\\\"],[0.8888888888888888,\\\"#fdca26\\\"],[1.0,\\\"#f0f921\\\"]]}],\\\"scatterternary\\\":[{\\\"type\\\":\\\"scatterternary\\\",\\\"marker\\\":{\\\"colorbar\\\":{\\\"ticks\\\":\\\"\\\",\\\"outlinewidth\\\":0}}}],\\\"scatterpolargl\\\":[{\\\"type\\\":\\\"scatterpolargl\\\",\\\"marker\\\":{\\\"colorbar\\\":{\\\"ticks\\\":\\\"\\\",\\\"outlinewidth\\\":0}}}]}},\\\"margin\\\":{\\\"l\\\":50,\\\"b\\\":50,\\\"r\\\":50,\\\"t\\\":60}},{\\\"showLink\\\":false,\\\"editable\\\":false,\\\"responsive\\\":true,\\\"staticPlot\\\":false,\\\"scrollZoom\\\":true}); gd.on(\\\"plotly_hover\\\",(function (data){var filtered_data=WebIO.PlotlyCommands.filterEventData(gd,data,\\\"hover\\\"); return !(filtered_data.isnil) ? (WebIO.setval({\\\"name\\\":\\\"hover\\\",\\\"scope\\\":\\\"17042807325805023786\\\",\\\"id\\\":\\\"13633050642893586187\\\",\\\"type\\\":\\\"observable\\\"},filtered_data.out)) : undefined})); gd.on(\\\"plotly_unhover\\\",(function (){return WebIO.setval({\\\"name\\\":\\\"hover\\\",\\\"scope\\\":\\\"17042807325805023786\\\",\\\"id\\\":\\\"13633050642893586187\\\",\\\"type\\\":\\\"observable\\\"},{})})); gd.on(\\\"plotly_selected\\\",(function (data){var filtered_data=WebIO.PlotlyCommands.filterEventData(gd,data,\\\"selected\\\"); return !(filtered_data.isnil) ? (WebIO.setval({\\\"name\\\":\\\"selected\\\",\\\"scope\\\":\\\"17042807325805023786\\\",\\\"id\\\":\\\"3614928382519034741\\\",\\\"type\\\":\\\"observable\\\"},filtered_data.out)) : undefined})); gd.on(\\\"plotly_deselect\\\",(function (){return WebIO.setval({\\\"name\\\":\\\"selected\\\",\\\"scope\\\":\\\"17042807325805023786\\\",\\\"id\\\":\\\"3614928382519034741\\\",\\\"type\\\":\\\"observable\\\"},{})})); gd.on(\\\"plotly_relayout\\\",(function (data){var filtered_data=WebIO.PlotlyCommands.filterEventData(gd,data,\\\"relayout\\\"); return !(filtered_data.isnil) ? (WebIO.setval({\\\"name\\\":\\\"relayout\\\",\\\"scope\\\":\\\"17042807325805023786\\\",\\\"id\\\":\\\"13319417304566513823\\\",\\\"type\\\":\\\"observable\\\"},filtered_data.out)) : undefined})); return gd.on(\\\"plotly_click\\\",(function (data){var filtered_data=WebIO.PlotlyCommands.filterEventData(gd,data,\\\"click\\\"); return !(filtered_data.isnil) ? (WebIO.setval({\\\"name\\\":\\\"click\\\",\\\"scope\\\":\\\"17042807325805023786\\\",\\\"id\\\":\\\"184674570829093880\\\",\\\"type\\\":\\\"observable\\\"},filtered_data.out)) : undefined}))}));\\n    (WebIO.importBlock({\\\"data\\\":[{\\\"name\\\":\\\"Plotly\\\",\\\"type\\\":\\\"js\\\",\\\"url\\\":\\\"\\/assetserver\\/8d35c4870680326a2cceb1d91a3d1ad98e91c98e-plotly.min.js\\\"},{\\\"name\\\":null,\\\"type\\\":\\\"js\\\",\\\"url\\\":\\\"\\/assetserver\\/2a5143fd330547fa597de852db6e29eb66a6ceea-plotly_webio.bundle.js\\\"}],\\\"type\\\":\\\"async_block\\\"})).then((imports) => handler.apply(this, imports));\\n}\\n\"],\"observables\":{\"_toImage\":{\"sync\":false,\"id\":\"4438686752892193136\",\"value\":{}},\"hover\":{\"sync\":false,\"id\":\"13633050642893586187\",\"value\":{}},\"selected\":{\"sync\":false,\"id\":\"3614928382519034741\",\"value\":{}},\"__gd_contents\":{\"sync\":false,\"id\":\"16644663046323034367\",\"value\":{}},\"click\":{\"sync\":false,\"id\":\"184674570829093880\",\"value\":{}},\"image\":{\"sync\":true,\"id\":\"2046027356702132542\",\"value\":\"\"},\"__get_gd_contents\":{\"sync\":false,\"id\":\"17437968732754057894\",\"value\":\"\"},\"_downloadImage\":{\"sync\":false,\"id\":\"515014603948147745\",\"value\":{}},\"relayout\":{\"sync\":false,\"id\":\"13319417304566513823\",\"value\":{}},\"_commands\":{\"sync\":false,\"id\":\"2127265969506583327\",\"value\":[]}}},\"children\":[{\"props\":{\"id\":\"plot-76fb398b-a933-4b81-96ae-2027fdeda729\"},\"nodeType\":\"DOM\",\"type\":\"node\",\"instanceArgs\":{\"namespace\":\"html\",\"tag\":\"div\"},\"children\":[]}]},\n",
       "        window,\n",
       "    );\n",
       "    })()\n",
       "    </script>\n",
       "</div>\n"
      ],
      "text/plain": [
       "data: [\n",
       "  \"bar with fields name, type, x, and y\",\n",
       "  \"bar with fields name, type, x, and y\",\n",
       "  \"bar with fields name, type, x, and y\",\n",
       "  \"bar with fields name, type, x, and y\"\n",
       "]\n",
       "\n",
       "layout: \"layout with fields margin and template\"\n",
       "\n"
      ]
     },
     "execution_count": 4,
     "metadata": {},
     "output_type": "execute_result"
    }
   ],
   "source": [
    "using PlotlyJS\n",
    "trace1 = bar(name=\"first\", x=[\"a\", \"b\"], y=[1,2])\n",
    "trace2 = bar(name=\"second\", x=[\"a\", \"b\"], y=[2,1])\n",
    "trace3 = bar(name=\"third\", x=[\"a\", \"b\"], y=[1,2])\n",
    "trace4 = bar(name=\"fourth\", x=[\"a\", \"b\"], y=[2,1])\n",
    "\n",
    "plot([trace1, trace2, trace3, trace4])"
   ]
  },
  {
   "cell_type": "code",
   "execution_count": 5,
   "metadata": {},
   "outputs": [
    {
     "data": {
      "image/svg+xml": [
       "<?xml version=\"1.0\" encoding=\"UTF-8\"?>\n",
       "<!DOCTYPE svg PUBLIC \"-//W3C//DTD SVG 1.1//EN\"\n",
       " \"http://www.w3.org/Graphics/SVG/1.1/DTD/svg11.dtd\">\n",
       "<svg xmlns=\"http://www.w3.org/2000/svg\" version=\"1.1\"\n",
       "     width=\"180mm\" height=\"25mm\"\n",
       "     viewBox=\"0 0 100 1\" preserveAspectRatio=\"none\"\n",
       "     shape-rendering=\"crispEdges\" stroke=\"none\">\n",
       "<rect width=\"1\" height=\".96\" x=\"0\" y=\"0\" fill=\"#4A0952\" />\n",
       "<rect width=\"1\" height=\".96\" x=\"1\" y=\"0\" fill=\"#601369\" />\n",
       "<rect width=\"1\" height=\".96\" x=\"2\" y=\"0\" fill=\"#731E7E\" />\n",
       "<rect width=\"1\" height=\".96\" x=\"3\" y=\"0\" fill=\"#85298F\" />\n",
       "<rect width=\"1\" height=\".96\" x=\"4\" y=\"0\" fill=\"#94349F\" />\n",
       "<rect width=\"1\" height=\".96\" x=\"5\" y=\"0\" fill=\"#A23EAC\" />\n",
       "<rect width=\"1\" height=\".96\" x=\"6\" y=\"0\" fill=\"#AE48B7\" />\n",
       "<rect width=\"1\" height=\".96\" x=\"7\" y=\"0\" fill=\"#B952C0\" />\n",
       "<rect width=\"1\" height=\".96\" x=\"8\" y=\"0\" fill=\"#C25CC8\" />\n",
       "<rect width=\"1\" height=\".96\" x=\"9\" y=\"0\" fill=\"#CA65CE\" />\n",
       "<rect width=\"1\" height=\".96\" x=\"10\" y=\"0\" fill=\"#D06ED3\" />\n",
       "<rect width=\"1\" height=\".96\" x=\"11\" y=\"0\" fill=\"#D677D8\" />\n",
       "<rect width=\"1\" height=\".96\" x=\"12\" y=\"0\" fill=\"#DC7EDC\" />\n",
       "<rect width=\"1\" height=\".96\" x=\"13\" y=\"0\" fill=\"#E086DF\" />\n",
       "<rect width=\"1\" height=\".96\" x=\"14\" y=\"0\" fill=\"#E48DE1\" />\n",
       "<rect width=\"1\" height=\".96\" x=\"15\" y=\"0\" fill=\"#E793E4\" />\n",
       "<rect width=\"1\" height=\".96\" x=\"16\" y=\"0\" fill=\"#EA99E6\" />\n",
       "<rect width=\"1\" height=\".96\" x=\"17\" y=\"0\" fill=\"#ED9FE8\" />\n",
       "<rect width=\"1\" height=\".96\" x=\"18\" y=\"0\" fill=\"#EFA4E9\" />\n",
       "<rect width=\"1\" height=\".96\" x=\"19\" y=\"0\" fill=\"#F2A9EB\" />\n",
       "<rect width=\"1\" height=\".96\" x=\"20\" y=\"0\" fill=\"#F3ADEC\" />\n",
       "<rect width=\"1\" height=\".96\" x=\"21\" y=\"0\" fill=\"#F5B2ED\" />\n",
       "<rect width=\"1\" height=\".96\" x=\"22\" y=\"0\" fill=\"#F6B6EE\" />\n",
       "<rect width=\"1\" height=\".96\" x=\"23\" y=\"0\" fill=\"#F8B9EF\" />\n",
       "<rect width=\"1\" height=\".96\" x=\"24\" y=\"0\" fill=\"#F9BDF0\" />\n",
       "<rect width=\"1\" height=\".96\" x=\"25\" y=\"0\" fill=\"#FAC0F1\" />\n",
       "<rect width=\"1\" height=\".96\" x=\"26\" y=\"0\" fill=\"#FAC3F2\" />\n",
       "<rect width=\"1\" height=\".96\" x=\"27\" y=\"0\" fill=\"#FBC6F2\" />\n",
       "<rect width=\"1\" height=\".96\" x=\"28\" y=\"0\" fill=\"#FCC9F3\" />\n",
       "<rect width=\"1\" height=\".96\" x=\"29\" y=\"0\" fill=\"#FCCBF4\" />\n",
       "<rect width=\"1\" height=\".96\" x=\"30\" y=\"0\" fill=\"#FDCEF4\" />\n",
       "<rect width=\"1\" height=\".96\" x=\"31\" y=\"0\" fill=\"#FDD0F5\" />\n",
       "<rect width=\"1\" height=\".96\" x=\"32\" y=\"0\" fill=\"#FED2F5\" />\n",
       "<rect width=\"1\" height=\".96\" x=\"33\" y=\"0\" fill=\"#FED4F6\" />\n",
       "<rect width=\"1\" height=\".96\" x=\"34\" y=\"0\" fill=\"#FED6F6\" />\n",
       "<rect width=\"1\" height=\".96\" x=\"35\" y=\"0\" fill=\"#FFD8F7\" />\n",
       "<rect width=\"1\" height=\".96\" x=\"36\" y=\"0\" fill=\"#FFDAF7\" />\n",
       "<rect width=\"1\" height=\".96\" x=\"37\" y=\"0\" fill=\"#FFDCF7\" />\n",
       "<rect width=\"1\" height=\".96\" x=\"38\" y=\"0\" fill=\"#FFDDF8\" />\n",
       "<rect width=\"1\" height=\".96\" x=\"39\" y=\"0\" fill=\"#FFDEF8\" />\n",
       "<rect width=\"1\" height=\".96\" x=\"40\" y=\"0\" fill=\"#FFE0F8\" />\n",
       "<rect width=\"1\" height=\".96\" x=\"41\" y=\"0\" fill=\"#FFE1F8\" />\n",
       "<rect width=\"1\" height=\".96\" x=\"42\" y=\"0\" fill=\"#FFE2F9\" />\n",
       "<rect width=\"1\" height=\".96\" x=\"43\" y=\"0\" fill=\"#FFE4F9\" />\n",
       "<rect width=\"1\" height=\".96\" x=\"44\" y=\"0\" fill=\"#FFE5F9\" />\n",
       "<rect width=\"1\" height=\".96\" x=\"45\" y=\"0\" fill=\"#FFE6F9\" />\n",
       "<rect width=\"1\" height=\".96\" x=\"46\" y=\"0\" fill=\"#FFE7FA\" />\n",
       "<rect width=\"1\" height=\".96\" x=\"47\" y=\"0\" fill=\"#FFE8FA\" />\n",
       "<rect width=\"1\" height=\".96\" x=\"48\" y=\"0\" fill=\"#FFE9FA\" />\n",
       "<rect width=\"1\" height=\".96\" x=\"49\" y=\"0\" fill=\"#FFE9FA\" />\n",
       "<rect width=\"1\" height=\".96\" x=\"50\" y=\"0\" fill=\"#FFEAFA\" />\n",
       "<rect width=\"1\" height=\".96\" x=\"51\" y=\"0\" fill=\"#FFEBFA\" />\n",
       "<rect width=\"1\" height=\".96\" x=\"52\" y=\"0\" fill=\"#FFECFB\" />\n",
       "<rect width=\"1\" height=\".96\" x=\"53\" y=\"0\" fill=\"#FFECFB\" />\n",
       "<rect width=\"1\" height=\".96\" x=\"54\" y=\"0\" fill=\"#FFEDFB\" />\n",
       "<rect width=\"1\" height=\".96\" x=\"55\" y=\"0\" fill=\"#FFEEFB\" />\n",
       "<rect width=\"1\" height=\".96\" x=\"56\" y=\"0\" fill=\"#FFEEFB\" />\n",
       "<rect width=\"1\" height=\".96\" x=\"57\" y=\"0\" fill=\"#FFEFFB\" />\n",
       "<rect width=\"1\" height=\".96\" x=\"58\" y=\"0\" fill=\"#FFEFFB\" />\n",
       "<rect width=\"1\" height=\".96\" x=\"59\" y=\"0\" fill=\"#FFF0FC\" />\n",
       "<rect width=\"1\" height=\".96\" x=\"60\" y=\"0\" fill=\"#FFF0FC\" />\n",
       "<rect width=\"1\" height=\".96\" x=\"61\" y=\"0\" fill=\"#FFF1FC\" />\n",
       "<rect width=\"1\" height=\".96\" x=\"62\" y=\"0\" fill=\"#FFF1FC\" />\n",
       "<rect width=\"1\" height=\".96\" x=\"63\" y=\"0\" fill=\"#FFF2FC\" />\n",
       "<rect width=\"1\" height=\".96\" x=\"64\" y=\"0\" fill=\"#FFF2FC\" />\n",
       "<rect width=\"1\" height=\".96\" x=\"65\" y=\"0\" fill=\"#FFF2FC\" />\n",
       "<rect width=\"1\" height=\".96\" x=\"66\" y=\"0\" fill=\"#FFF3FC\" />\n",
       "<rect width=\"1\" height=\".96\" x=\"67\" y=\"0\" fill=\"#FFF3FC\" />\n",
       "<rect width=\"1\" height=\".96\" x=\"68\" y=\"0\" fill=\"#FFF3FC\" />\n",
       "<rect width=\"1\" height=\".96\" x=\"69\" y=\"0\" fill=\"#FFF4FC\" />\n",
       "<rect width=\"1\" height=\".96\" x=\"70\" y=\"0\" fill=\"#FFF4FC\" />\n",
       "<rect width=\"1\" height=\".96\" x=\"71\" y=\"0\" fill=\"#FFF4FC\" />\n",
       "<rect width=\"1\" height=\".96\" x=\"72\" y=\"0\" fill=\"#FFF5FD\" />\n",
       "<rect width=\"1\" height=\".96\" x=\"73\" y=\"0\" fill=\"#FFF5FD\" />\n",
       "<rect width=\"1\" height=\".96\" x=\"74\" y=\"0\" fill=\"#FFF5FD\" />\n",
       "<rect width=\"1\" height=\".96\" x=\"75\" y=\"0\" fill=\"#FFF5FD\" />\n",
       "<rect width=\"1\" height=\".96\" x=\"76\" y=\"0\" fill=\"#FFF5FD\" />\n",
       "<rect width=\"1\" height=\".96\" x=\"77\" y=\"0\" fill=\"#FFF6FD\" />\n",
       "<rect width=\"1\" height=\".96\" x=\"78\" y=\"0\" fill=\"#FFF6FD\" />\n",
       "<rect width=\"1\" height=\".96\" x=\"79\" y=\"0\" fill=\"#FFF6FD\" />\n",
       "<rect width=\"1\" height=\".96\" x=\"80\" y=\"0\" fill=\"#FFF6FD\" />\n",
       "<rect width=\"1\" height=\".96\" x=\"81\" y=\"0\" fill=\"#FFF6FD\" />\n",
       "<rect width=\"1\" height=\".96\" x=\"82\" y=\"0\" fill=\"#FFF7FD\" />\n",
       "<rect width=\"1\" height=\".96\" x=\"83\" y=\"0\" fill=\"#FFF7FD\" />\n",
       "<rect width=\"1\" height=\".96\" x=\"84\" y=\"0\" fill=\"#FFF7FD\" />\n",
       "<rect width=\"1\" height=\".96\" x=\"85\" y=\"0\" fill=\"#FFF7FD\" />\n",
       "<rect width=\"1\" height=\".96\" x=\"86\" y=\"0\" fill=\"#FFF7FD\" />\n",
       "<rect width=\"1\" height=\".96\" x=\"87\" y=\"0\" fill=\"#FFF7FD\" />\n",
       "<rect width=\"1\" height=\".96\" x=\"88\" y=\"0\" fill=\"#FFF7FD\" />\n",
       "<rect width=\"1\" height=\".96\" x=\"89\" y=\"0\" fill=\"#FFF8FD\" />\n",
       "<rect width=\"1\" height=\".96\" x=\"90\" y=\"0\" fill=\"#FFF8FD\" />\n",
       "<rect width=\"1\" height=\".96\" x=\"91\" y=\"0\" fill=\"#FFF8FD\" />\n",
       "<rect width=\"1\" height=\".96\" x=\"92\" y=\"0\" fill=\"#FFF8FD\" />\n",
       "<rect width=\"1\" height=\".96\" x=\"93\" y=\"0\" fill=\"#FFF8FD\" />\n",
       "<rect width=\"1\" height=\".96\" x=\"94\" y=\"0\" fill=\"#FFF8FD\" />\n",
       "<rect width=\"1\" height=\".96\" x=\"95\" y=\"0\" fill=\"#FFF8FD\" />\n",
       "<rect width=\"1\" height=\".96\" x=\"96\" y=\"0\" fill=\"#FFF8FD\" />\n",
       "<rect width=\"1\" height=\".96\" x=\"97\" y=\"0\" fill=\"#FFF8FD\" />\n",
       "<rect width=\"1\" height=\".96\" x=\"98\" y=\"0\" fill=\"#FFF8FD\" />\n",
       "<rect width=\"1\" height=\".96\" x=\"99\" y=\"0\" fill=\"#FFF8FD\" />\n",
       "</svg>"
      ],
      "text/plain": [
       "ColorScheme{Vector{RGB{Float64}}, String, String}(RGB{Float64}[RGB{Float64}(0.2914382319339584,0.03402717443064348,0.32311553463299547), RGB{Float64}(0.3759944884870766,0.07520266294746367,0.41281801433753273), RGB{Float64}(0.4523758063973981,0.11759634651107972,0.49218335728960766), RGB{Float64}(0.520812041705408,0.1601297972470267,0.5615666564408454), RGB{Float64}(0.5817349635639338,0.20223621440044054,0.6216129760504435), RGB{Float64}(0.6356417573018186,0.24355985242345451,0.6730740777433435), RGB{Float64}(0.6830303240836113,0.28388932561869296,0.7167158342182118), RGB{Float64}(0.724367741761409,0.32311213359902,0.7532707863053658), RGB{Float64}(0.7600909264519287,0.3611657391363909,0.7834368255058094), RGB{Float64}(0.7908866823876691,0.3977218846068681,0.8082528513683139)  …  RGB{Float64}(1.0,0.9711935581900785,0.9930269590583073), RGB{Float64}(1.0,0.9716142444999428,0.9931189253540144), RGB{Float64}(1.0,0.9720154741729489,0.9932066701060075), RGB{Float64}(1.0,0.972398161574698,0.9932903890124342), RGB{Float64}(1.0,0.9727631768174442,0.993370268519212), RGB{Float64}(1.0,0.9731113480142114,0.9934464862747402), RGB{Float64}(1.0,0.9734434634084456,0.9935192115605748), RGB{Float64}(1.0,0.9737602733868823,0.9935886056994919), RGB{Float64}(1.0,0.9740624923827531,0.9936548224423113), RGB{Float64}(1.0,0.9743508006759821,0.9937180083346749)], \"\", \"\")"
      ]
     },
     "execution_count": 5,
     "metadata": {},
     "output_type": "execute_result"
    }
   ],
   "source": [
    "using Colors, ColorSchemes\n",
    "cs1 = ColorScheme(reverse(Colors.sequential_palette(300, 100, logscale=true)))"
   ]
  },
  {
   "cell_type": "code",
   "execution_count": null,
   "metadata": {},
   "outputs": [],
   "source": []
  }
 ],
 "metadata": {
  "kernelspec": {
   "display_name": "Julia 1.7.2",
   "language": "julia",
   "name": "julia-1.7"
  },
  "language_info": {
   "file_extension": ".jl",
   "mimetype": "application/julia",
   "name": "julia",
   "version": "1.7.2"
  }
 },
 "nbformat": 4,
 "nbformat_minor": 4
}
